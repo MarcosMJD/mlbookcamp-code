{
 "cells": [
  {
   "cell_type": "code",
   "execution_count": 1,
   "metadata": {},
   "outputs": [],
   "source": [
    "import pandas as pd\n",
    "import numpy as np\n",
    "\n",
    "import matplotlib.pyplot as plt\n",
    "import seaborn as sns\n",
    "\n",
    "%matplotlib inline"
   ]
  },
  {
   "cell_type": "code",
   "execution_count": 4,
   "metadata": {},
   "outputs": [],
   "source": [
    "df = pd.read_csv('AB_NYC_2019.csv', nrows=10000)"
   ]
  },
  {
   "cell_type": "code",
   "execution_count": 13,
   "metadata": {},
   "outputs": [],
   "source": [
    "h = df.neighbourhood.value_counts().values\n",
    "x = np.arange(len(h))"
   ]
  },
  {
   "cell_type": "code",
   "execution_count": 8,
   "metadata": {},
   "outputs": [
    {
     "data": {
      "text/plain": [
       "Riverdale            1\n",
       "Claremont Village    1\n",
       "Whitestone           1\n",
       "Fordham              1\n",
       "Neponsit             1\n",
       "Name: neighbourhood, dtype: int64"
      ]
     },
     "execution_count": 8,
     "metadata": {},
     "output_type": "execute_result"
    }
   ],
   "source": [
    "df.neighbourhood.value_counts().tail()"
   ]
  },
  {
   "cell_type": "code",
   "execution_count": 14,
   "metadata": {},
   "outputs": [
    {
     "data": {
      "text/plain": [
       "<BarContainer object of 171 artists>"
      ]
     },
     "execution_count": 14,
     "metadata": {},
     "output_type": "execute_result"
    },
    {
     "data": {
      "image/png": "[encoded data removed]",
      "text/plain": [
       "<Figure size 864x576 with 1 Axes>"
      ]
     },
     "metadata": {
      "needs_background": "light"
     },
     "output_type": "display_data"
    }
   ],
   "source": [
    "plt.figure(figsize=(12, 8))\n",
    "plt.bar(x, h)"
   ]
  },
  {
   "cell_type": "code",
   "execution_count": 15,
   "metadata": {},
   "outputs": [],
   "source": [
    "from sklearn.feature_extraction.text import CountVectorizer"
   ]
  },
  {
   "cell_type": "code",
   "execution_count": 16,
   "metadata": {},
   "outputs": [],
   "source": [
    "df.neighbourhood_group = df.neighbourhood_group.str.lower().str.replace(' ', '_').fillna('NA')\n",
    "df.neighbourhood = df.neighbourhood.str.lower().str.replace(' ', '_').fillna('NA')\n",
    "df.room_type = df.room_type.str.lower().str.replace(' ', '_').fillna('NA')"
   ]
  },
  {
   "cell_type": "code",
   "execution_count": 19,
   "metadata": {},
   "outputs": [],
   "source": [
    "cats = 'neighbourhood_group=' + df.neighbourhood_group + ' ' + \\\n",
    "    'neighbourhood=' + df.neighbourhood+ ' ' + \\\n",
    "    'room_type=' + df.room_type"
   ]
  },
  {
   "cell_type": "code",
   "execution_count": 20,
   "metadata": {},
   "outputs": [
    {
     "data": {
      "text/plain": [
       "'neighbourhood_group=brooklyn neighbourhood=kensington room_type=private_room'"
      ]
     },
     "execution_count": 20,
     "metadata": {},
     "output_type": "execute_result"
    }
   ],
   "source": [
    "cats.iloc[0]"
   ]
  },
  {
   "cell_type": "code",
   "execution_count": 24,
   "metadata": {},
   "outputs": [
    {
     "data": {
      "text/plain": [
       "CountVectorizer(min_df=100, token_pattern='\\\\S+')"
      ]
     },
     "execution_count": 24,
     "metadata": {},
     "output_type": "execute_result"
    }
   ],
   "source": [
    "cv_categories = CountVectorizer(token_pattern='\\S+', min_df=100)\n",
    "cv_categories.fit(cats)"
   ]
  },
  {
   "cell_type": "code",
   "execution_count": 26,
   "metadata": {},
   "outputs": [
    {
     "data": {
      "text/plain": [
       "34"
      ]
     },
     "execution_count": 26,
     "metadata": {},
     "output_type": "execute_result"
    }
   ],
   "source": [
    "len(cv_categories.get_feature_names())"
   ]
  },
  {
   "cell_type": "code",
   "execution_count": 28,
   "metadata": {},
   "outputs": [
    {
     "data": {
      "text/plain": [
       "['neighbourhood=astoria',\n",
       " 'neighbourhood=bedford-stuyvesant',\n",
       " 'neighbourhood=bushwick',\n",
       " 'neighbourhood=chelsea',\n",
       " 'neighbourhood=clinton_hill',\n",
       " 'neighbourhood=crown_heights',\n",
       " 'neighbourhood=east_harlem',\n",
       " 'neighbourhood=east_village',\n",
       " 'neighbourhood=flatbush',\n",
       " 'neighbourhood=fort_greene',\n",
       " 'neighbourhood=greenpoint',\n",
       " 'neighbourhood=greenwich_village',\n",
       " 'neighbourhood=harlem',\n",
       " \"neighbourhood=hell's_kitchen\",\n",
       " 'neighbourhood=kips_bay',\n",
       " 'neighbourhood=long_island_city',\n",
       " 'neighbourhood=lower_east_side',\n",
       " 'neighbourhood=midtown',\n",
       " 'neighbourhood=park_slope',\n",
       " 'neighbourhood=prospect-lefferts_gardens',\n",
       " 'neighbourhood=prospect_heights',\n",
       " 'neighbourhood=south_slope',\n",
       " 'neighbourhood=upper_east_side',\n",
       " 'neighbourhood=upper_west_side',\n",
       " 'neighbourhood=washington_heights',\n",
       " 'neighbourhood=west_village',\n",
       " 'neighbourhood=williamsburg',\n",
       " 'neighbourhood_group=bronx',\n",
       " 'neighbourhood_group=brooklyn',\n",
       " 'neighbourhood_group=manhattan',\n",
       " 'neighbourhood_group=queens',\n",
       " 'room_type=entire_home/apt',\n",
       " 'room_type=private_room',\n",
       " 'room_type=shared_room']"
      ]
     },
     "execution_count": 28,
     "metadata": {},
     "output_type": "execute_result"
    }
   ],
   "source": [
    "cv_categories.get_feature_names()"
   ]
  },
  {
   "cell_type": "code",
   "execution_count": 29,
   "metadata": {},
   "outputs": [],
   "source": [
    "text = 'neighbourhood_group=brooklyn neighbourhood=morris_park room_type=private_room'"
   ]
  },
  {
   "cell_type": "code",
   "execution_count": 30,
   "metadata": {},
   "outputs": [],
   "source": [
    "X = cv_categories.transform([text])"
   ]
  },
  {
   "cell_type": "code",
   "execution_count": 32,
   "metadata": {},
   "outputs": [
    {
     "data": {
      "text/plain": [
       "{'neighbourhood=astoria': 0,\n",
       " 'neighbourhood=bedford-stuyvesant': 0,\n",
       " 'neighbourhood=bushwick': 0,\n",
       " 'neighbourhood=chelsea': 0,\n",
       " 'neighbourhood=clinton_hill': 0,\n",
       " 'neighbourhood=crown_heights': 0,\n",
       " 'neighbourhood=east_harlem': 0,\n",
       " 'neighbourhood=east_village': 0,\n",
       " 'neighbourhood=flatbush': 0,\n",
       " 'neighbourhood=fort_greene': 0,\n",
       " 'neighbourhood=greenpoint': 0,\n",
       " 'neighbourhood=greenwich_village': 0,\n",
       " 'neighbourhood=harlem': 0,\n",
       " \"neighbourhood=hell's_kitchen\": 0,\n",
       " 'neighbourhood=kips_bay': 0,\n",
       " 'neighbourhood=long_island_city': 0,\n",
       " 'neighbourhood=lower_east_side': 0,\n",
       " 'neighbourhood=midtown': 0,\n",
       " 'neighbourhood=park_slope': 0,\n",
       " 'neighbourhood=prospect-lefferts_gardens': 0,\n",
       " 'neighbourhood=prospect_heights': 0,\n",
       " 'neighbourhood=south_slope': 0,\n",
       " 'neighbourhood=upper_east_side': 0,\n",
       " 'neighbourhood=upper_west_side': 0,\n",
       " 'neighbourhood=washington_heights': 0,\n",
       " 'neighbourhood=west_village': 0,\n",
       " 'neighbourhood=williamsburg': 0,\n",
       " 'neighbourhood_group=bronx': 0,\n",
       " 'neighbourhood_group=brooklyn': 1,\n",
       " 'neighbourhood_group=manhattan': 0,\n",
       " 'neighbourhood_group=queens': 0,\n",
       " 'room_type=entire_home/apt': 0,\n",
       " 'room_type=private_room': 1,\n",
       " 'room_type=shared_room': 0}"
      ]
     },
     "execution_count": 32,
     "metadata": {},
     "output_type": "execute_result"
    }
   ],
   "source": [
    "dict(zip(cv_categories.get_feature_names(), X.toarray()[0]))"
   ]
  },
  {
   "cell_type": "code",
   "execution_count": 83,
   "metadata": {},
   "outputs": [
    {
     "data": {
      "text/plain": [
       "CountVectorizer(min_df=100)"
      ]
     },
     "execution_count": 83,
     "metadata": {},
     "output_type": "execute_result"
    }
   ],
   "source": [
    "cv = CountVectorizer(min_df=100)\n",
    "cv.fit(df.name.fillna(''))"
   ]
  },
  {
   "cell_type": "code",
   "execution_count": 75,
   "metadata": {},
   "outputs": [],
   "source": [
    "X_cat = cv_categories.transform(cats)"
   ]
  },
  {
   "cell_type": "code",
   "execution_count": 76,
   "metadata": {},
   "outputs": [],
   "source": [
    "X_text = cv.transform(df.name.fillna(''))"
   ]
  },
  {
   "cell_type": "code",
   "execution_count": 77,
   "metadata": {},
   "outputs": [
    {
     "data": {
      "text/plain": [
       "<10000x34 sparse matrix of type '<class 'numpy.int64'>'\n",
       "\twith 27848 stored elements in Compressed Sparse Row format>"
      ]
     },
     "execution_count": 77,
     "metadata": {},
     "output_type": "execute_result"
    }
   ],
   "source": [
    "X_cat"
   ]
  },
  {
   "cell_type": "code",
   "execution_count": 78,
   "metadata": {},
   "outputs": [
    {
     "data": {
      "text/plain": [
       "<10000x98 sparse matrix of type '<class 'numpy.int64'>'\n",
       "\twith 36103 stored elements in Compressed Sparse Row format>"
      ]
     },
     "execution_count": 78,
     "metadata": {},
     "output_type": "execute_result"
    }
   ],
   "source": [
    "X_text"
   ]
  },
  {
   "cell_type": "code",
   "execution_count": 79,
   "metadata": {},
   "outputs": [],
   "source": [
    "import scipy "
   ]
  },
  {
   "cell_type": "code",
   "execution_count": 84,
   "metadata": {},
   "outputs": [
    {
     "data": {
      "text/plain": [
       "<10000x132 sparse matrix of type '<class 'numpy.int64'>'\n",
       "\twith 63951 stored elements in COOrdinate format>"
      ]
     },
     "execution_count": 84,
     "metadata": {},
     "output_type": "execute_result"
    }
   ],
   "source": [
    "scipy.sparse.hstack([X_cat, X_text])"
   ]
  },
  {
   "cell_type": "code",
   "execution_count": 106,
   "metadata": {},
   "outputs": [],
   "source": [
    "df['is_expensive'] = (df.price >= 1000)"
   ]
  },
  {
   "cell_type": "code",
   "execution_count": 107,
   "metadata": {},
   "outputs": [
    {
     "data": {
      "text/plain": [
       "0.0081"
      ]
     },
     "execution_count": 107,
     "metadata": {},
     "output_type": "execute_result"
    }
   ],
   "source": [
    "df.is_expensive.mean()"
   ]
  },
  {
   "cell_type": "code",
   "execution_count": 108,
   "metadata": {},
   "outputs": [],
   "source": [
    "from sklearn.model_selection import train_test_split"
   ]
  },
  {
   "cell_type": "code",
   "execution_count": 128,
   "metadata": {},
   "outputs": [],
   "source": [
    "df_train, df_test = train_test_split(df, random_state=1, stratify=df.is_expensive)"
   ]
  },
  {
   "cell_type": "code",
   "execution_count": 129,
   "metadata": {},
   "outputs": [
    {
     "data": {
      "text/plain": [
       "0.008133333333333333"
      ]
     },
     "execution_count": 129,
     "metadata": {},
     "output_type": "execute_result"
    }
   ],
   "source": [
    "df_train.is_expensive.mean()"
   ]
  },
  {
   "cell_type": "code",
   "execution_count": 130,
   "metadata": {},
   "outputs": [
    {
     "data": {
      "text/plain": [
       "0.008"
      ]
     },
     "execution_count": 130,
     "metadata": {},
     "output_type": "execute_result"
    }
   ],
   "source": [
    "df_test.is_expensive.mean()"
   ]
  },
  {
   "cell_type": "code",
   "execution_count": null,
   "metadata": {},
   "outputs": [],
   "source": []
  }
 ],
 "metadata": {
  "kernelspec": {
   "display_name": "Python 3.9.7 ('base')",
   "language": "python",
   "name": "python3"
  },
  "language_info": {
   "codemirror_mode": {
    "name": "ipython",
    "version": 3
   },
   "file_extension": ".py",
   "mimetype": "text/x-python",
   "name": "python",
   "nbconvert_exporter": "python",
   "pygments_lexer": "ipython3",
   "version": "3.9.7"
  },
  "vscode": {
   "interpreter": {
    "hash": "81c93a7bf43722fa7c63894895aef7b1dbe0e2bcac982bdbd66e964354c85542"
   }
  }
 },
 "nbformat": 4,
 "nbformat_minor": 2
}
