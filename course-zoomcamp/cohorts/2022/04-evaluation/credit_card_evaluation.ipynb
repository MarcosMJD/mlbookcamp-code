{
 "cells": [
  {
   "cell_type": "markdown",
   "id": "2066d2ad",
   "metadata": {},
   "source": [
    "# 3. Machine Learning for Classification\n",
    "\n",
    "The goal of this project is to inspect the output of different evaluation metrics by creating a classification model on target column = 'card'\n",
    "\n",
    "## 3.1 Churn prediction project\n",
    "\n",
    "Credit Card Data from book \"Econometric Analysis\".\n",
    "\n",
    "https://raw.githubusercontent.com/alexeygrigorev/datasets/master/AER_credit_card_data.csv\n"
   ]
  },
  {
   "cell_type": "markdown",
   "id": "b88b2b39",
   "metadata": {},
   "source": [
    "## 3.2 Data preparation\n",
    "\n",
    "* Download the data, read it with pandas\n",
    "* Look at the data\n",
    "* Make column names and values look uniform\n",
    "\n",
    "* Check if all the columns read correctly.\n",
    "* Check if the churn variable needs any preparation\n",
    "* Convert column types if needed\n"
   ]
  },
  {
   "cell_type": "code",
   "execution_count": 124,
   "id": "7ea3dd08",
   "metadata": {},
   "outputs": [],
   "source": [
    "import pandas as pd\n",
    "import numpy as np\n",
    "from IPython.display import display\n",
    "import matplotlib.pyplot as plt\n",
    "import seaborn as sns\n",
    "from sklearn.metrics import auc, roc_auc_score, roc_curve, precision_recall_curve, f1_score\n",
    "from sklearn.feature_extraction import DictVectorizer\n",
    "from sklearn.model_selection import KFold\n",
    "from sklearn.linear_model import LogisticRegression"
   ]
  },
  {
   "cell_type": "code",
   "execution_count": 19,
   "id": "1c9e53f5",
   "metadata": {},
   "outputs": [],
   "source": [
    "source_file_name = \"AER_credit_card_data.csv\"\n",
    "data_path = f'./data/{source_file_name}'"
   ]
  },
  {
   "cell_type": "code",
   "execution_count": 20,
   "id": "a00aa728",
   "metadata": {},
   "outputs": [],
   "source": [
    "data = f'https://raw.githubusercontent.com/alexeygrigorev/datasets/master/{source_file_name}'"
   ]
  },
  {
   "cell_type": "code",
   "execution_count": 21,
   "id": "1de1d7a9",
   "metadata": {},
   "outputs": [
    {
     "name": "stderr",
     "output_type": "stream",
     "text": [
      "  % Total    % Received % Xferd  Average Speed   Time    Time     Time  Current\n",
      "                                 Dload  Upload   Total   Spent    Left  Speed\n",
      "\n",
      "  0     0    0     0    0     0      0      0 --:--:-- --:--:-- --:--:--     0\n",
      "100 73250  100 73250    0     0   768k      0 --:--:-- --:--:-- --:--:--  786k\n"
     ]
    }
   ],
   "source": [
    "# !wget $data -O data-week-3.csv \n",
    "!curl $data -o $data_path"
   ]
  },
  {
   "cell_type": "code",
   "execution_count": 22,
   "id": "9b91ef90",
   "metadata": {},
   "outputs": [
    {
     "data": {
      "text/html": [
       "<div>\n",
       "<style scoped>\n",
       "    .dataframe tbody tr th:only-of-type {\n",
       "        vertical-align: middle;\n",
       "    }\n",
       "\n",
       "    .dataframe tbody tr th {\n",
       "        vertical-align: top;\n",
       "    }\n",
       "\n",
       "    .dataframe thead th {\n",
       "        text-align: right;\n",
       "    }\n",
       "</style>\n",
       "<table border=\"1\" class=\"dataframe\">\n",
       "  <thead>\n",
       "    <tr style=\"text-align: right;\">\n",
       "      <th></th>\n",
       "      <th>card</th>\n",
       "      <th>reports</th>\n",
       "      <th>age</th>\n",
       "      <th>income</th>\n",
       "      <th>share</th>\n",
       "      <th>expenditure</th>\n",
       "      <th>owner</th>\n",
       "      <th>selfemp</th>\n",
       "      <th>dependents</th>\n",
       "      <th>months</th>\n",
       "      <th>majorcards</th>\n",
       "      <th>active</th>\n",
       "    </tr>\n",
       "  </thead>\n",
       "  <tbody>\n",
       "    <tr>\n",
       "      <th>0</th>\n",
       "      <td>yes</td>\n",
       "      <td>0</td>\n",
       "      <td>37.66667</td>\n",
       "      <td>4.5200</td>\n",
       "      <td>0.033270</td>\n",
       "      <td>124.983300</td>\n",
       "      <td>yes</td>\n",
       "      <td>no</td>\n",
       "      <td>3</td>\n",
       "      <td>54</td>\n",
       "      <td>1</td>\n",
       "      <td>12</td>\n",
       "    </tr>\n",
       "    <tr>\n",
       "      <th>1</th>\n",
       "      <td>yes</td>\n",
       "      <td>0</td>\n",
       "      <td>33.25000</td>\n",
       "      <td>2.4200</td>\n",
       "      <td>0.005217</td>\n",
       "      <td>9.854167</td>\n",
       "      <td>no</td>\n",
       "      <td>no</td>\n",
       "      <td>3</td>\n",
       "      <td>34</td>\n",
       "      <td>1</td>\n",
       "      <td>13</td>\n",
       "    </tr>\n",
       "    <tr>\n",
       "      <th>2</th>\n",
       "      <td>yes</td>\n",
       "      <td>0</td>\n",
       "      <td>33.66667</td>\n",
       "      <td>4.5000</td>\n",
       "      <td>0.004156</td>\n",
       "      <td>15.000000</td>\n",
       "      <td>yes</td>\n",
       "      <td>no</td>\n",
       "      <td>4</td>\n",
       "      <td>58</td>\n",
       "      <td>1</td>\n",
       "      <td>5</td>\n",
       "    </tr>\n",
       "    <tr>\n",
       "      <th>3</th>\n",
       "      <td>yes</td>\n",
       "      <td>0</td>\n",
       "      <td>30.50000</td>\n",
       "      <td>2.5400</td>\n",
       "      <td>0.065214</td>\n",
       "      <td>137.869200</td>\n",
       "      <td>no</td>\n",
       "      <td>no</td>\n",
       "      <td>0</td>\n",
       "      <td>25</td>\n",
       "      <td>1</td>\n",
       "      <td>7</td>\n",
       "    </tr>\n",
       "    <tr>\n",
       "      <th>4</th>\n",
       "      <td>yes</td>\n",
       "      <td>0</td>\n",
       "      <td>32.16667</td>\n",
       "      <td>9.7867</td>\n",
       "      <td>0.067051</td>\n",
       "      <td>546.503300</td>\n",
       "      <td>yes</td>\n",
       "      <td>no</td>\n",
       "      <td>2</td>\n",
       "      <td>64</td>\n",
       "      <td>1</td>\n",
       "      <td>5</td>\n",
       "    </tr>\n",
       "  </tbody>\n",
       "</table>\n",
       "</div>"
      ],
      "text/plain": [
       "  card  reports       age  income     share  expenditure owner selfemp  \\\n",
       "0  yes        0  37.66667  4.5200  0.033270   124.983300   yes      no   \n",
       "1  yes        0  33.25000  2.4200  0.005217     9.854167    no      no   \n",
       "2  yes        0  33.66667  4.5000  0.004156    15.000000   yes      no   \n",
       "3  yes        0  30.50000  2.5400  0.065214   137.869200    no      no   \n",
       "4  yes        0  32.16667  9.7867  0.067051   546.503300   yes      no   \n",
       "\n",
       "   dependents  months  majorcards  active  \n",
       "0           3      54           1      12  \n",
       "1           3      34           1      13  \n",
       "2           4      58           1       5  \n",
       "3           0      25           1       7  \n",
       "4           2      64           1       5  "
      ]
     },
     "execution_count": 22,
     "metadata": {},
     "output_type": "execute_result"
    }
   ],
   "source": [
    "df = pd.read_csv(data_path)\n",
    "df.head()"
   ]
  },
  {
   "cell_type": "code",
   "execution_count": 23,
   "id": "9b5c0fed",
   "metadata": {},
   "outputs": [],
   "source": [
    "df.columns = df.columns.str.lower().str.replace(' ', '_')\n",
    "\n",
    "categorical_columns = list(df.dtypes[df.dtypes == 'object'].index)\n",
    "\n",
    "for c in categorical_columns:\n",
    "    df[c] = df[c].str.lower().str.replace(' ', '_')"
   ]
  },
  {
   "cell_type": "code",
   "execution_count": 24,
   "id": "1b16f634",
   "metadata": {},
   "outputs": [
    {
     "data": {
      "text/html": [
       "<div>\n",
       "<style scoped>\n",
       "    .dataframe tbody tr th:only-of-type {\n",
       "        vertical-align: middle;\n",
       "    }\n",
       "\n",
       "    .dataframe tbody tr th {\n",
       "        vertical-align: top;\n",
       "    }\n",
       "\n",
       "    .dataframe thead th {\n",
       "        text-align: right;\n",
       "    }\n",
       "</style>\n",
       "<table border=\"1\" class=\"dataframe\">\n",
       "  <thead>\n",
       "    <tr style=\"text-align: right;\">\n",
       "      <th></th>\n",
       "      <th>0</th>\n",
       "      <th>1</th>\n",
       "      <th>2</th>\n",
       "      <th>3</th>\n",
       "      <th>4</th>\n",
       "    </tr>\n",
       "  </thead>\n",
       "  <tbody>\n",
       "    <tr>\n",
       "      <th>card</th>\n",
       "      <td>yes</td>\n",
       "      <td>yes</td>\n",
       "      <td>yes</td>\n",
       "      <td>yes</td>\n",
       "      <td>yes</td>\n",
       "    </tr>\n",
       "    <tr>\n",
       "      <th>reports</th>\n",
       "      <td>0</td>\n",
       "      <td>0</td>\n",
       "      <td>0</td>\n",
       "      <td>0</td>\n",
       "      <td>0</td>\n",
       "    </tr>\n",
       "    <tr>\n",
       "      <th>age</th>\n",
       "      <td>37.66667</td>\n",
       "      <td>33.25</td>\n",
       "      <td>33.66667</td>\n",
       "      <td>30.5</td>\n",
       "      <td>32.16667</td>\n",
       "    </tr>\n",
       "    <tr>\n",
       "      <th>income</th>\n",
       "      <td>4.52</td>\n",
       "      <td>2.42</td>\n",
       "      <td>4.5</td>\n",
       "      <td>2.54</td>\n",
       "      <td>9.7867</td>\n",
       "    </tr>\n",
       "    <tr>\n",
       "      <th>share</th>\n",
       "      <td>0.03327</td>\n",
       "      <td>0.005217</td>\n",
       "      <td>0.004156</td>\n",
       "      <td>0.065214</td>\n",
       "      <td>0.067051</td>\n",
       "    </tr>\n",
       "    <tr>\n",
       "      <th>expenditure</th>\n",
       "      <td>124.9833</td>\n",
       "      <td>9.854167</td>\n",
       "      <td>15.0</td>\n",
       "      <td>137.8692</td>\n",
       "      <td>546.5033</td>\n",
       "    </tr>\n",
       "    <tr>\n",
       "      <th>owner</th>\n",
       "      <td>yes</td>\n",
       "      <td>no</td>\n",
       "      <td>yes</td>\n",
       "      <td>no</td>\n",
       "      <td>yes</td>\n",
       "    </tr>\n",
       "    <tr>\n",
       "      <th>selfemp</th>\n",
       "      <td>no</td>\n",
       "      <td>no</td>\n",
       "      <td>no</td>\n",
       "      <td>no</td>\n",
       "      <td>no</td>\n",
       "    </tr>\n",
       "    <tr>\n",
       "      <th>dependents</th>\n",
       "      <td>3</td>\n",
       "      <td>3</td>\n",
       "      <td>4</td>\n",
       "      <td>0</td>\n",
       "      <td>2</td>\n",
       "    </tr>\n",
       "    <tr>\n",
       "      <th>months</th>\n",
       "      <td>54</td>\n",
       "      <td>34</td>\n",
       "      <td>58</td>\n",
       "      <td>25</td>\n",
       "      <td>64</td>\n",
       "    </tr>\n",
       "    <tr>\n",
       "      <th>majorcards</th>\n",
       "      <td>1</td>\n",
       "      <td>1</td>\n",
       "      <td>1</td>\n",
       "      <td>1</td>\n",
       "      <td>1</td>\n",
       "    </tr>\n",
       "    <tr>\n",
       "      <th>active</th>\n",
       "      <td>12</td>\n",
       "      <td>13</td>\n",
       "      <td>5</td>\n",
       "      <td>7</td>\n",
       "      <td>5</td>\n",
       "    </tr>\n",
       "  </tbody>\n",
       "</table>\n",
       "</div>"
      ],
      "text/plain": [
       "                    0         1         2         3         4\n",
       "card              yes       yes       yes       yes       yes\n",
       "reports             0         0         0         0         0\n",
       "age          37.66667     33.25  33.66667      30.5  32.16667\n",
       "income           4.52      2.42       4.5      2.54    9.7867\n",
       "share         0.03327  0.005217  0.004156  0.065214  0.067051\n",
       "expenditure  124.9833  9.854167      15.0  137.8692  546.5033\n",
       "owner             yes        no       yes        no       yes\n",
       "selfemp            no        no        no        no        no\n",
       "dependents          3         3         4         0         2\n",
       "months             54        34        58        25        64\n",
       "majorcards          1         1         1         1         1\n",
       "active             12        13         5         7         5"
      ]
     },
     "execution_count": 24,
     "metadata": {},
     "output_type": "execute_result"
    }
   ],
   "source": [
    "df.head().T"
   ]
  },
  {
   "cell_type": "code",
   "execution_count": 25,
   "id": "4e9f541d",
   "metadata": {},
   "outputs": [
    {
     "data": {
      "text/plain": [
       "card            object\n",
       "reports          int64\n",
       "age            float64\n",
       "income         float64\n",
       "share          float64\n",
       "expenditure    float64\n",
       "owner           object\n",
       "selfemp         object\n",
       "dependents       int64\n",
       "months           int64\n",
       "majorcards       int64\n",
       "active           int64\n",
       "dtype: object"
      ]
     },
     "execution_count": 25,
     "metadata": {},
     "output_type": "execute_result"
    }
   ],
   "source": [
    "df.dtypes"
   ]
  },
  {
   "cell_type": "markdown",
   "id": "bce259a3",
   "metadata": {},
   "source": [
    "Convert card to integer, since this is a binary problem. df.churn returns a series of boolean type. astype in will convert it to integer"
   ]
  },
  {
   "cell_type": "code",
   "execution_count": 26,
   "id": "d84a8c91",
   "metadata": {},
   "outputs": [],
   "source": [
    "target = 'card'"
   ]
  },
  {
   "cell_type": "code",
   "execution_count": 31,
   "id": "d41121b8",
   "metadata": {},
   "outputs": [
    {
     "data": {
      "text/plain": [
       "True     1023\n",
       "False     296\n",
       "Name: card, dtype: int64"
      ]
     },
     "execution_count": 31,
     "metadata": {},
     "output_type": "execute_result"
    }
   ],
   "source": [
    "(df[target] == 'yes').value_counts()"
   ]
  },
  {
   "cell_type": "code",
   "execution_count": 32,
   "id": "cec52302",
   "metadata": {},
   "outputs": [],
   "source": [
    "df[target] = (df[target] == 'yes').astype('int')"
   ]
  },
  {
   "cell_type": "code",
   "execution_count": 33,
   "id": "f15e9648",
   "metadata": {},
   "outputs": [
    {
     "data": {
      "text/plain": [
       "1    1023\n",
       "0     296\n",
       "Name: card, dtype: int64"
      ]
     },
     "execution_count": 33,
     "metadata": {},
     "output_type": "execute_result"
    }
   ],
   "source": [
    "df[target].value_counts()"
   ]
  },
  {
   "cell_type": "markdown",
   "id": "6dae392c",
   "metadata": {},
   "source": [
    "## 3.3 Setting up the validation framework\n",
    "\n",
    "* Perform the train/validation/test split with Scikit-Learn"
   ]
  },
  {
   "cell_type": "code",
   "execution_count": 34,
   "id": "f36d996a",
   "metadata": {},
   "outputs": [],
   "source": [
    "from sklearn.model_selection import train_test_split"
   ]
  },
  {
   "cell_type": "code",
   "execution_count": 35,
   "id": "0b5fb72d",
   "metadata": {},
   "outputs": [],
   "source": [
    "df_full_train, df_test = train_test_split(df, test_size=0.2, random_state=1)\n",
    "df_train, df_val = train_test_split(df_full_train, test_size=0.25, random_state=1)"
   ]
  },
  {
   "cell_type": "code",
   "execution_count": 36,
   "id": "4defaf15",
   "metadata": {},
   "outputs": [
    {
     "data": {
      "text/plain": [
       "(791, 264, 264)"
      ]
     },
     "execution_count": 36,
     "metadata": {},
     "output_type": "execute_result"
    }
   ],
   "source": [
    "len(df_train), len(df_val), len(df_test)"
   ]
  },
  {
   "cell_type": "markdown",
   "id": "185435d8",
   "metadata": {},
   "source": [
    "train_test_split suffles the index of the dataframe. Reset index of dataframe. Actually not needed."
   ]
  },
  {
   "cell_type": "code",
   "execution_count": 37,
   "id": "ec48030d",
   "metadata": {},
   "outputs": [],
   "source": [
    "df_full_train = df_full_train.reset_index(drop=True)\n",
    "df_train = df_train.reset_index(drop=True)\n",
    "df_val = df_val.reset_index(drop=True)\n",
    "df_test = df_test.reset_index(drop=True)"
   ]
  },
  {
   "cell_type": "code",
   "execution_count": 40,
   "id": "b2cb8004",
   "metadata": {},
   "outputs": [],
   "source": [
    "y_train = df_train[target].values\n",
    "y_val = df_val[target].values\n",
    "y_test = df_test[target].values\n",
    "\n",
    "# We do not delete churn in the df_full_train, because we will use this dataset for EDA\n",
    "del df_train[target]\n",
    "del df_val[target]\n",
    "del df_test[target]"
   ]
  },
  {
   "cell_type": "code",
   "execution_count": 52,
   "id": "db18bd26",
   "metadata": {},
   "outputs": [
    {
     "data": {
      "text/plain": [
       "RangeIndex(start=0, stop=1319, step=1)"
      ]
     },
     "execution_count": 52,
     "metadata": {},
     "output_type": "execute_result"
    }
   ],
   "source": [
    "df.index"
   ]
  },
  {
   "cell_type": "code",
   "execution_count": 55,
   "id": "4840e8ed",
   "metadata": {},
   "outputs": [
    {
     "data": {
      "text/plain": [
       "['reports',\n",
       " 'age',\n",
       " 'income',\n",
       " 'share',\n",
       " 'expenditure',\n",
       " 'dependents',\n",
       " 'months',\n",
       " 'majorcards',\n",
       " 'active']"
      ]
     },
     "execution_count": 55,
     "metadata": {},
     "output_type": "execute_result"
    }
   ],
   "source": [
    "numerical = list(df.dtypes.index[((df.dtypes != 'object') & (df.dtypes != 'datetime'))])\n",
    "numerical.remove(target)\n",
    "numerical"
   ]
  },
  {
   "cell_type": "code",
   "execution_count": 67,
   "id": "47d30428",
   "metadata": {},
   "outputs": [
    {
     "data": {
      "text/plain": [
       "0     630\n",
       "1      93\n",
       "2      26\n",
       "3      14\n",
       "4       9\n",
       "5       7\n",
       "6       4\n",
       "7       3\n",
       "14      1\n",
       "12      1\n",
       "11      1\n",
       "9       1\n",
       "10      1\n",
       "Name: reports, dtype: int64"
      ]
     },
     "execution_count": 67,
     "metadata": {},
     "output_type": "execute_result"
    }
   ],
   "source": [
    "df_train['reports'].value_counts()"
   ]
  },
  {
   "cell_type": "code",
   "execution_count": 76,
   "id": "c4d82909",
   "metadata": {},
   "outputs": [
    {
     "name": "stdout",
     "output_type": "stream",
     "text": [
      " card - reports : 0.28333701393106236\n",
      " card - age : 0.4759979020592945\n",
      " card - income : 0.5908049467233478\n",
      " card - share : 0.989183643423692\n",
      " card - expenditure : 0.991042345276873\n",
      " card - dependents : 0.46722427722262094\n",
      " card - months : 0.470578221903237\n",
      " card - majorcards : 0.5343859842838476\n",
      " card - active : 0.6043173411362006\n"
     ]
    }
   ],
   "source": [
    "for category in numerical:\n",
    "    score = roc_auc_score(y_train, df_train[category].values.astype('float64'))\n",
    "    fpr, tpr, thresholds = roc_curve(y_train, df_train[category].values)\n",
    "    score = auc(fpr, tpr)\n",
    "    print(f' {target} - {category} : {score}')"
   ]
  },
  {
   "cell_type": "code",
   "execution_count": 77,
   "id": "0e30dbf0",
   "metadata": {},
   "outputs": [],
   "source": [
    "columns = [\"reports\", \"age\", \"income\", \"share\", \"expenditure\", \"dependents\", \"months\", \"majorcards\", \"active\", \"owner\", \"selfemp\"]"
   ]
  },
  {
   "cell_type": "code",
   "execution_count": 82,
   "id": "ade4d37a",
   "metadata": {},
   "outputs": [],
   "source": [
    "dv = DictVectorizer()\n",
    "train_dicts = df_train[columns].to_dict(orient='records')\n",
    "val_dicts = df_val[columns].to_dict(orient='records')\n",
    "X_train = dv.fit_transform(train_dicts)\n",
    "X_val = dv.fit_transform(val_dicts)"
   ]
  },
  {
   "cell_type": "code",
   "execution_count": 83,
   "id": "c0711cb2",
   "metadata": {},
   "outputs": [],
   "source": [
    "model = LogisticRegression(solver='liblinear', C=1.0, max_iter=1000)"
   ]
  },
  {
   "cell_type": "code",
   "execution_count": 85,
   "id": "aa80bf3a",
   "metadata": {},
   "outputs": [
    {
     "data": {
      "text/html": [
       "<style>#sk-container-id-1 {color: black;background-color: white;}#sk-container-id-1 pre{padding: 0;}#sk-container-id-1 div.sk-toggleable {background-color: white;}#sk-container-id-1 label.sk-toggleable__label {cursor: pointer;display: block;width: 100%;margin-bottom: 0;padding: 0.3em;box-sizing: border-box;text-align: center;}#sk-container-id-1 label.sk-toggleable__label-arrow:before {content: \"▸\";float: left;margin-right: 0.25em;color: #696969;}#sk-container-id-1 label.sk-toggleable__label-arrow:hover:before {color: black;}#sk-container-id-1 div.sk-estimator:hover label.sk-toggleable__label-arrow:before {color: black;}#sk-container-id-1 div.sk-toggleable__content {max-height: 0;max-width: 0;overflow: hidden;text-align: left;background-color: #f0f8ff;}#sk-container-id-1 div.sk-toggleable__content pre {margin: 0.2em;color: black;border-radius: 0.25em;background-color: #f0f8ff;}#sk-container-id-1 input.sk-toggleable__control:checked~div.sk-toggleable__content {max-height: 200px;max-width: 100%;overflow: auto;}#sk-container-id-1 input.sk-toggleable__control:checked~label.sk-toggleable__label-arrow:before {content: \"▾\";}#sk-container-id-1 div.sk-estimator input.sk-toggleable__control:checked~label.sk-toggleable__label {background-color: #d4ebff;}#sk-container-id-1 div.sk-label input.sk-toggleable__control:checked~label.sk-toggleable__label {background-color: #d4ebff;}#sk-container-id-1 input.sk-hidden--visually {border: 0;clip: rect(1px 1px 1px 1px);clip: rect(1px, 1px, 1px, 1px);height: 1px;margin: -1px;overflow: hidden;padding: 0;position: absolute;width: 1px;}#sk-container-id-1 div.sk-estimator {font-family: monospace;background-color: #f0f8ff;border: 1px dotted black;border-radius: 0.25em;box-sizing: border-box;margin-bottom: 0.5em;}#sk-container-id-1 div.sk-estimator:hover {background-color: #d4ebff;}#sk-container-id-1 div.sk-parallel-item::after {content: \"\";width: 100%;border-bottom: 1px solid gray;flex-grow: 1;}#sk-container-id-1 div.sk-label:hover label.sk-toggleable__label {background-color: #d4ebff;}#sk-container-id-1 div.sk-serial::before {content: \"\";position: absolute;border-left: 1px solid gray;box-sizing: border-box;top: 0;bottom: 0;left: 50%;z-index: 0;}#sk-container-id-1 div.sk-serial {display: flex;flex-direction: column;align-items: center;background-color: white;padding-right: 0.2em;padding-left: 0.2em;position: relative;}#sk-container-id-1 div.sk-item {position: relative;z-index: 1;}#sk-container-id-1 div.sk-parallel {display: flex;align-items: stretch;justify-content: center;background-color: white;position: relative;}#sk-container-id-1 div.sk-item::before, #sk-container-id-1 div.sk-parallel-item::before {content: \"\";position: absolute;border-left: 1px solid gray;box-sizing: border-box;top: 0;bottom: 0;left: 50%;z-index: -1;}#sk-container-id-1 div.sk-parallel-item {display: flex;flex-direction: column;z-index: 1;position: relative;background-color: white;}#sk-container-id-1 div.sk-parallel-item:first-child::after {align-self: flex-end;width: 50%;}#sk-container-id-1 div.sk-parallel-item:last-child::after {align-self: flex-start;width: 50%;}#sk-container-id-1 div.sk-parallel-item:only-child::after {width: 0;}#sk-container-id-1 div.sk-dashed-wrapped {border: 1px dashed gray;margin: 0 0.4em 0.5em 0.4em;box-sizing: border-box;padding-bottom: 0.4em;background-color: white;}#sk-container-id-1 div.sk-label label {font-family: monospace;font-weight: bold;display: inline-block;line-height: 1.2em;}#sk-container-id-1 div.sk-label-container {text-align: center;}#sk-container-id-1 div.sk-container {/* jupyter's `normalize.less` sets `[hidden] { display: none; }` but bootstrap.min.css set `[hidden] { display: none !important; }` so we also need the `!important` here to be able to override the default hidden behavior on the sphinx rendered scikit-learn.org. See: https://github.com/scikit-learn/scikit-learn/issues/21755 */display: inline-block !important;position: relative;}#sk-container-id-1 div.sk-text-repr-fallback {display: none;}</style><div id=\"sk-container-id-1\" class=\"sk-top-container\"><div class=\"sk-text-repr-fallback\"><pre>LogisticRegression(max_iter=1000, solver=&#x27;liblinear&#x27;)</pre><b>In a Jupyter environment, please rerun this cell to show the HTML representation or trust the notebook. <br />On GitHub, the HTML representation is unable to render, please try loading this page with nbviewer.org.</b></div><div class=\"sk-container\" hidden><div class=\"sk-item\"><div class=\"sk-estimator sk-toggleable\"><input class=\"sk-toggleable__control sk-hidden--visually\" id=\"sk-estimator-id-1\" type=\"checkbox\" checked><label for=\"sk-estimator-id-1\" class=\"sk-toggleable__label sk-toggleable__label-arrow\">LogisticRegression</label><div class=\"sk-toggleable__content\"><pre>LogisticRegression(max_iter=1000, solver=&#x27;liblinear&#x27;)</pre></div></div></div></div></div>"
      ],
      "text/plain": [
       "LogisticRegression(max_iter=1000, solver='liblinear')"
      ]
     },
     "execution_count": 85,
     "metadata": {},
     "output_type": "execute_result"
    }
   ],
   "source": [
    "model.fit(X_train, y_train)"
   ]
  },
  {
   "cell_type": "code",
   "execution_count": 92,
   "id": "19c4b0cc",
   "metadata": {},
   "outputs": [
    {
     "data": {
      "text/plain": [
       "0.995171242063847"
      ]
     },
     "execution_count": 92,
     "metadata": {},
     "output_type": "execute_result"
    }
   ],
   "source": [
    "y_pred = model.predict_proba(X_val)[:,1]\n",
    "score_auc = roc_auc_score(y_val, y_pred)\n",
    "score_auc"
   ]
  },
  {
   "cell_type": "code",
   "execution_count": 107,
   "id": "28eac3a9",
   "metadata": {},
   "outputs": [],
   "source": [
    "precision, recall, thresholds = precision_recall_curve(y_val, y_pred)"
   ]
  },
  {
   "cell_type": "code",
   "execution_count": 108,
   "id": "3b1ec586",
   "metadata": {
    "scrolled": true
   },
   "outputs": [
    {
     "data": {
      "text/plain": [
       "[<matplotlib.lines.Line2D at 0x1e0f76a5fa0>]"
      ]
     },
     "execution_count": 108,
     "metadata": {},
     "output_type": "execute_result"
    },
    {
     "data": {
      "image/png": "[encoded data removed]",
      "text/plain": [
       "<Figure size 640x480 with 1 Axes>"
      ]
     },
     "metadata": {},
     "output_type": "display_data"
    }
   ],
   "source": [
    "plt.plot(thresholds, precision[1:])\n",
    "plt.plot(thresholds, recall[1:])"
   ]
  },
  {
   "cell_type": "code",
   "execution_count": 123,
   "id": "86dbb08c",
   "metadata": {},
   "outputs": [
    {
     "name": "stdout",
     "output_type": "stream",
     "text": [
      " t=0.0 - f1=0.88842\n",
      " t=0.01 - f1=0.92544\n",
      " t=0.02 - f1=0.93157\n",
      " t=0.03 - f1=0.94619\n",
      " t=0.04 - f1=0.95045\n",
      " t=0.05 - f1=0.95045\n",
      " t=0.06 - f1=0.95692\n",
      " t=0.07 - f1=0.95692\n",
      " t=0.08 - f1=0.95672\n",
      " t=0.09 - f1=0.95672\n",
      " t=0.1 - f1=0.95890\n",
      " t=0.11 - f1=0.95890\n",
      " t=0.12 - f1=0.95890\n",
      " t=0.13 - f1=0.97222\n",
      " t=0.14 - f1=0.97196\n",
      " t=0.15 - f1=0.97196\n",
      " t=0.16 - f1=0.97653\n",
      " t=0.17 - f1=0.97653\n",
      " t=0.18 - f1=0.97642\n",
      " t=0.19 - f1=0.97872\n",
      " t=0.2 - f1=0.97872\n",
      " t=0.21 - f1=0.97872\n",
      " t=0.22 - f1=0.97872\n",
      " t=0.23 - f1=0.97872\n",
      " t=0.24 - f1=0.97630\n",
      " t=0.25 - f1=0.97630\n",
      " t=0.26 - f1=0.97630\n",
      " t=0.27 - f1=0.97630\n",
      " t=0.28 - f1=0.97630\n",
      " t=0.29 - f1=0.97630\n",
      " t=0.3 - f1=0.97387\n",
      " t=0.31 - f1=0.97619\n",
      " t=0.32 - f1=0.97619\n",
      " t=0.33 - f1=0.97619\n",
      " t=0.34 - f1=0.98086\n",
      " t=0.35000000000000003 - f1=0.98321\n",
      " t=0.36 - f1=0.98321\n",
      " t=0.37 - f1=0.98321\n",
      " t=0.38 - f1=0.98321\n",
      " t=0.39 - f1=0.98321\n",
      " t=0.4 - f1=0.98321\n",
      " t=0.41000000000000003 - f1=0.98321\n",
      " t=0.42 - f1=0.98077\n",
      " t=0.43 - f1=0.98077\n",
      " t=0.44 - f1=0.98077\n",
      " t=0.45 - f1=0.98077\n",
      " t=0.46 - f1=0.98077\n",
      " t=0.47000000000000003 - f1=0.98077\n",
      " t=0.48 - f1=0.98077\n",
      " t=0.49 - f1=0.98077\n",
      " t=0.5 - f1=0.98077\n",
      " t=0.51 - f1=0.98077\n",
      " t=0.52 - f1=0.98077\n",
      " t=0.53 - f1=0.98077\n",
      " t=0.54 - f1=0.98077\n",
      " t=0.55 - f1=0.98077\n",
      " t=0.56 - f1=0.98077\n",
      " t=0.5700000000000001 - f1=0.98077\n",
      " t=0.58 - f1=0.98077\n",
      " t=0.59 - f1=0.98077\n",
      " t=0.6 - f1=0.98077\n",
      " t=0.61 - f1=0.98077\n",
      " t=0.62 - f1=0.98077\n",
      " t=0.63 - f1=0.98077\n",
      " t=0.64 - f1=0.98077\n",
      " t=0.65 - f1=0.98077\n",
      " t=0.66 - f1=0.98077\n",
      " t=0.67 - f1=0.98077\n",
      " t=0.68 - f1=0.98077\n",
      " t=0.6900000000000001 - f1=0.98077\n",
      " t=0.7000000000000001 - f1=0.98077\n",
      " t=0.71 - f1=0.98077\n",
      " t=0.72 - f1=0.98077\n",
      " t=0.73 - f1=0.98077\n",
      " t=0.74 - f1=0.98077\n",
      " t=0.75 - f1=0.98077\n",
      " t=0.76 - f1=0.98077\n",
      " t=0.77 - f1=0.98077\n",
      " t=0.78 - f1=0.98077\n",
      " t=0.79 - f1=0.98077\n",
      " t=0.8 - f1=0.98077\n",
      " t=0.81 - f1=0.98077\n",
      " t=0.8200000000000001 - f1=0.98077\n",
      " t=0.8300000000000001 - f1=0.98077\n",
      " t=0.84 - f1=0.98077\n",
      " t=0.85 - f1=0.98313\n",
      " t=0.86 - f1=0.98313\n",
      " t=0.87 - f1=0.98313\n",
      " t=0.88 - f1=0.98313\n",
      " t=0.89 - f1=0.98313\n",
      " t=0.9 - f1=0.98313\n",
      " t=0.91 - f1=0.98313\n",
      " t=0.92 - f1=0.98313\n",
      " t=0.93 - f1=0.98313\n",
      " t=0.9400000000000001 - f1=0.98313\n",
      " t=0.9500000000000001 - f1=0.98313\n",
      " t=0.96 - f1=0.98313\n",
      " t=0.97 - f1=0.98068\n",
      " t=0.98 - f1=0.98068\n",
      " t=0.99 - f1=0.97821\n",
      " t=1.0 - f1=0.91795\n"
     ]
    }
   ],
   "source": [
    "actual_positive = (y_val == 1)\n",
    "actual_negative = (y_val == 0)\n",
    "\n",
    "scores = pd.DataFrame()\n",
    "for t in np.arange(0, 1.01, 0.01):\n",
    "    predict_positive = (y_pred >= t)\n",
    "    predict_negative = (y_pred < t)\n",
    "    tp = (predict_positive & actual_positive).sum()\n",
    "    tn = (predict_negative & actual_negative).sum()\n",
    "    fp = (predict_positive & actual_negative).sum()\n",
    "    fn = (predict_negative & actual_positive).sum()\n",
    "    tpr = tp / (tp + fn)\n",
    "    fpr = fp / (fp + tn)\n",
    "    recall = tpr\n",
    "    precision = tp / (tp + fp)\n",
    "    f1 = 2 * precision * recall / (precision + recall)\n",
    "    print(f' t={t} - f1={f1:.5f}')\n"
   ]
  },
  {
   "cell_type": "code",
   "execution_count": 127,
   "id": "17a8e478",
   "metadata": {},
   "outputs": [],
   "source": [
    "kfold = KFold(n_splits=5, shuffle=True, random_state=1)"
   ]
  },
  {
   "cell_type": "code",
   "execution_count": 137,
   "id": "124c5a88",
   "metadata": {},
   "outputs": [],
   "source": [
    "def train(df_train, y_train, C=1.0):\n",
    "    dicts = df_train.to_dict(orient='records')\n",
    "\n",
    "    dv = DictVectorizer(sparse=False)\n",
    "    X_train = dv.fit_transform(dicts)\n",
    "\n",
    "    model = LogisticRegression(solver='liblinear', C=C, max_iter=1000)\n",
    "    model.fit(X_train, y_train)\n",
    "    \n",
    "    return dv, model"
   ]
  },
  {
   "cell_type": "code",
   "execution_count": 138,
   "id": "0b0cccc5",
   "metadata": {},
   "outputs": [],
   "source": [
    "def predict(df, dv, model):\n",
    "    dicts = df.to_dict(orient='records')\n",
    "\n",
    "    X = dv.transform(dicts)\n",
    "    y_pred = model.predict_proba(X)[:, 1]\n",
    "\n",
    "    return y_pred"
   ]
  },
  {
   "cell_type": "code",
   "execution_count": 145,
   "id": "18215517",
   "metadata": {},
   "outputs": [
    {
     "name": "stdout",
     "output_type": "stream",
     "text": [
      "(0.01, 0.9918810292344007), 0.00559887235402738\n",
      "(0.1, 0.9950557137157224), 0.003954138088244392\n",
      "(1, 0.9964498276814243), 0.0027434713804377724\n",
      "(10, 0.9963886109436032), 0.0028151486609295684\n"
     ]
    }
   ],
   "source": [
    "for C in [0.01, 0.1, 1, 10]:\n",
    "    auc_scores = []\n",
    "    for train_idx, val_idx in kfold.split(df_full_train[columns]):\n",
    "        df_train = df_full_train.iloc[train_idx]\n",
    "        df_val = df_full_train.iloc[val_idx]\n",
    "        y_train = df_train[target].values\n",
    "        y_val = df_val[target].values\n",
    "        dv, model = train(df_train[columns], y_train, C)\n",
    "        y_pred = predict(df_val[columns], dv, model)\n",
    "        score = roc_auc_score(y_val, y_pred)\n",
    "        auc_scores.append(score)\n",
    "        #print(f'roc_auc={roc_auc_score(y_val, y_pred)}')\n",
    "    print(f'{C, np.mean(auc_scores)}, {np.std(auc_scores)}')"
   ]
  }
 ],
 "metadata": {
  "kernelspec": {
   "display_name": "Python 3.9.7 ('base')",
   "language": "python",
   "name": "python3"
  },
  "language_info": {
   "codemirror_mode": {
    "name": "ipython",
    "version": 3
   },
   "file_extension": ".py",
   "mimetype": "text/x-python",
   "name": "python",
   "nbconvert_exporter": "python",
   "pygments_lexer": "ipython3",
   "version": "3.9.7"
  },
  "vscode": {
   "interpreter": {
    "hash": "81c93a7bf43722fa7c63894895aef7b1dbe0e2bcac982bdbd66e964354c85542"
   }
  }
 },
 "nbformat": 4,
 "nbformat_minor": 5
}
