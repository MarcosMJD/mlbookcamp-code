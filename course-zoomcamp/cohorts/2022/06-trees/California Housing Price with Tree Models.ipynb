{
  "cells": [
    {
      "cell_type": "markdown",
      "metadata": {
        "id": "-JrenrSGmAeg"
      },
      "source": [
        "**HOMEWORK**  \n",
        "\n",
        "The goal of this homework is to create a regression model for predicting housing prices (column 'median_house_value').  \n",
        "\n",
        "In this homework we'll again use the California Housing Prices dataset - the same one we used in homework 2 and 3.\n",
        "\n",
        "You can take it from [Kaggle](https://www.kaggle.com/datasets/camnugent/california-housing-prices) or download using wget link mentioned below:\n",
        "\n",
        "```\n",
        "wget https://raw.githubusercontent.com/alexeygrigorev/datasets/master/housing.csv\n",
        "\n",
        "```\n",
        "\n"
      ]
    },
    {
      "cell_type": "code",
      "execution_count": 79,
      "metadata": {
        "id": "nLosiCNJUjDM"
      },
      "outputs": [],
      "source": [
        "#@ IMPORTING LIBRARIES AND DEPENDENCIES:\n",
        "import re\n",
        "import numpy as np\n",
        "import pandas as pd\n",
        "import seaborn as sns\n",
        "import xgboost as xgb\n",
        "import matplotlib.pyplot as plt\n",
        "from tqdm.auto import tqdm\n",
        "from sklearn.tree import DecisionTreeRegressor\n",
        "from sklearn.tree import export_text\n",
        "from sklearn.feature_extraction import DictVectorizer\n",
        "from sklearn.model_selection import train_test_split\n",
        "from sklearn.ensemble import RandomForestRegressor\n",
        "from sklearn.metrics import mean_squared_error\n",
        "\n",
        "%matplotlib inline"
      ]
    },
    {
      "cell_type": "code",
      "execution_count": 80,
      "metadata": {
        "id": "4Psk224nnyIF"
      },
      "outputs": [],
      "source": [
        "#@ DOWNLOADING THE DATASET: UNCOMMENT BELOW:\n",
        "# !wget https://raw.githubusercontent.com/alexeygrigorev/datasets/master/housing.csv\n",
        "PATH = \"https://raw.githubusercontent.com/alexeygrigorev/datasets/master/housing.csv\""
      ]
    },
    {
      "cell_type": "code",
      "execution_count": 81,
      "metadata": {
        "id": "492Hn6-3n08G"
      },
      "outputs": [],
      "source": [
        "#@ READING DATASET:\n",
        "# PATH = \"./housing.csv\"\n",
        "select_cols = [\"longitude\", \"latitude\", \"housing_median_age\", \"total_rooms\", \"total_bedrooms\", \"population\", \"households\", \n",
        "               \"median_income\", \"median_house_value\", \"ocean_proximity\"]\n",
        "df = pd.read_csv(PATH, usecols=select_cols)"
      ]
    },
    {
      "cell_type": "code",
      "execution_count": 82,
      "metadata": {},
      "outputs": [
        {
          "name": "stdout",
          "output_type": "stream",
          "text": [
            "<class 'pandas.core.frame.DataFrame'>\n",
            "RangeIndex: 20640 entries, 0 to 20639\n",
            "Data columns (total 10 columns):\n",
            " #   Column              Non-Null Count  Dtype  \n",
            "---  ------              --------------  -----  \n",
            " 0   longitude           20640 non-null  float64\n",
            " 1   latitude            20640 non-null  float64\n",
            " 2   housing_median_age  20640 non-null  float64\n",
            " 3   total_rooms         20640 non-null  float64\n",
            " 4   total_bedrooms      20433 non-null  float64\n",
            " 5   population          20640 non-null  float64\n",
            " 6   households          20640 non-null  float64\n",
            " 7   median_income       20640 non-null  float64\n",
            " 8   median_house_value  20640 non-null  float64\n",
            " 9   ocean_proximity     20640 non-null  object \n",
            "dtypes: float64(9), object(1)\n",
            "memory usage: 1.6+ MB\n"
          ]
        }
      ],
      "source": [
        "df.info()"
      ]
    },
    {
      "cell_type": "code",
      "execution_count": 83,
      "metadata": {},
      "outputs": [],
      "source": [
        "df.total_bedrooms = df.total_bedrooms.fillna(0)"
      ]
    },
    {
      "cell_type": "markdown",
      "metadata": {
        "id": "OqXppJ_Ro0H0"
      },
      "source": [
        "- Apply the log transform to `median_house_value`. \n",
        "- Do train/validation/test split with 60%/20%/20% distribution.\n",
        "- Use the `train_test_split` function and set the `random_state parameter` to 1."
      ]
    },
    {
      "cell_type": "code",
      "execution_count": 84,
      "metadata": {},
      "outputs": [
        {
          "data": {
            "text/plain": [
              "0        452600.0\n",
              "1        358500.0\n",
              "2        352100.0\n",
              "3        341300.0\n",
              "4        342200.0\n",
              "           ...   \n",
              "20635     78100.0\n",
              "20636     77100.0\n",
              "20637     92300.0\n",
              "20638     84700.0\n",
              "20639     89400.0\n",
              "Name: median_house_value, Length: 20640, dtype: float64"
            ]
          },
          "execution_count": 84,
          "metadata": {},
          "output_type": "execute_result"
        }
      ],
      "source": [
        "df.median_house_value"
      ]
    },
    {
      "cell_type": "code",
      "execution_count": 85,
      "metadata": {
        "id": "W1MmdcRDpHS1"
      },
      "outputs": [
        {
          "data": {
            "text/plain": [
              "0        13.022766\n",
              "1        12.789687\n",
              "2        12.771673\n",
              "3        12.740520\n",
              "4        12.743154\n",
              "           ...    \n",
              "20635    11.265758\n",
              "20636    11.252872\n",
              "20637    11.432810\n",
              "20638    11.346883\n",
              "20639    11.400887\n",
              "Name: median_house_value, Length: 20640, dtype: float64"
            ]
          },
          "execution_count": 85,
          "metadata": {},
          "output_type": "execute_result"
        }
      ],
      "source": [
        "#@ SPLITTING THE DATASET FOR TRAINING AND TEST:\n",
        "df.median_house_value = np.log1p(df.median_house_value)\n",
        "df.median_house_value"
      ]
    },
    {
      "cell_type": "code",
      "execution_count": 86,
      "metadata": {},
      "outputs": [
        {
          "data": {
            "text/html": [
              "<div>\n",
              "<style scoped>\n",
              "    .dataframe tbody tr th:only-of-type {\n",
              "        vertical-align: middle;\n",
              "    }\n",
              "\n",
              "    .dataframe tbody tr th {\n",
              "        vertical-align: top;\n",
              "    }\n",
              "\n",
              "    .dataframe thead th {\n",
              "        text-align: right;\n",
              "    }\n",
              "</style>\n",
              "<table border=\"1\" class=\"dataframe\">\n",
              "  <thead>\n",
              "    <tr style=\"text-align: right;\">\n",
              "      <th></th>\n",
              "      <th>longitude</th>\n",
              "      <th>latitude</th>\n",
              "      <th>housing_median_age</th>\n",
              "      <th>total_rooms</th>\n",
              "      <th>total_bedrooms</th>\n",
              "      <th>population</th>\n",
              "      <th>households</th>\n",
              "      <th>median_income</th>\n",
              "      <th>median_house_value</th>\n",
              "      <th>ocean_proximity</th>\n",
              "    </tr>\n",
              "  </thead>\n",
              "  <tbody>\n",
              "    <tr>\n",
              "      <th>0</th>\n",
              "      <td>-122.23</td>\n",
              "      <td>37.88</td>\n",
              "      <td>41.0</td>\n",
              "      <td>880.0</td>\n",
              "      <td>129.0</td>\n",
              "      <td>322.0</td>\n",
              "      <td>126.0</td>\n",
              "      <td>8.3252</td>\n",
              "      <td>13.022766</td>\n",
              "      <td>NEAR BAY</td>\n",
              "    </tr>\n",
              "    <tr>\n",
              "      <th>1</th>\n",
              "      <td>-122.22</td>\n",
              "      <td>37.86</td>\n",
              "      <td>21.0</td>\n",
              "      <td>7099.0</td>\n",
              "      <td>1106.0</td>\n",
              "      <td>2401.0</td>\n",
              "      <td>1138.0</td>\n",
              "      <td>8.3014</td>\n",
              "      <td>12.789687</td>\n",
              "      <td>NEAR BAY</td>\n",
              "    </tr>\n",
              "    <tr>\n",
              "      <th>2</th>\n",
              "      <td>-122.24</td>\n",
              "      <td>37.85</td>\n",
              "      <td>52.0</td>\n",
              "      <td>1467.0</td>\n",
              "      <td>190.0</td>\n",
              "      <td>496.0</td>\n",
              "      <td>177.0</td>\n",
              "      <td>7.2574</td>\n",
              "      <td>12.771673</td>\n",
              "      <td>NEAR BAY</td>\n",
              "    </tr>\n",
              "    <tr>\n",
              "      <th>3</th>\n",
              "      <td>-122.25</td>\n",
              "      <td>37.85</td>\n",
              "      <td>52.0</td>\n",
              "      <td>1274.0</td>\n",
              "      <td>235.0</td>\n",
              "      <td>558.0</td>\n",
              "      <td>219.0</td>\n",
              "      <td>5.6431</td>\n",
              "      <td>12.740520</td>\n",
              "      <td>NEAR BAY</td>\n",
              "    </tr>\n",
              "    <tr>\n",
              "      <th>4</th>\n",
              "      <td>-122.25</td>\n",
              "      <td>37.85</td>\n",
              "      <td>52.0</td>\n",
              "      <td>1627.0</td>\n",
              "      <td>280.0</td>\n",
              "      <td>565.0</td>\n",
              "      <td>259.0</td>\n",
              "      <td>3.8462</td>\n",
              "      <td>12.743154</td>\n",
              "      <td>NEAR BAY</td>\n",
              "    </tr>\n",
              "  </tbody>\n",
              "</table>\n",
              "</div>"
            ],
            "text/plain": [
              "   longitude  latitude  housing_median_age  total_rooms  total_bedrooms  \\\n",
              "0    -122.23     37.88                41.0        880.0           129.0   \n",
              "1    -122.22     37.86                21.0       7099.0          1106.0   \n",
              "2    -122.24     37.85                52.0       1467.0           190.0   \n",
              "3    -122.25     37.85                52.0       1274.0           235.0   \n",
              "4    -122.25     37.85                52.0       1627.0           280.0   \n",
              "\n",
              "   population  households  median_income  median_house_value ocean_proximity  \n",
              "0       322.0       126.0         8.3252           13.022766        NEAR BAY  \n",
              "1      2401.0      1138.0         8.3014           12.789687        NEAR BAY  \n",
              "2       496.0       177.0         7.2574           12.771673        NEAR BAY  \n",
              "3       558.0       219.0         5.6431           12.740520        NEAR BAY  \n",
              "4       565.0       259.0         3.8462           12.743154        NEAR BAY  "
            ]
          },
          "execution_count": 86,
          "metadata": {},
          "output_type": "execute_result"
        }
      ],
      "source": [
        "df.head()"
      ]
    },
    {
      "cell_type": "code",
      "execution_count": 87,
      "metadata": {},
      "outputs": [],
      "source": [
        "target = \"median_house_value\""
      ]
    },
    {
      "cell_type": "code",
      "execution_count": 89,
      "metadata": {},
      "outputs": [
        {
          "data": {
            "text/html": [
              "<div>\n",
              "<style scoped>\n",
              "    .dataframe tbody tr th:only-of-type {\n",
              "        vertical-align: middle;\n",
              "    }\n",
              "\n",
              "    .dataframe tbody tr th {\n",
              "        vertical-align: top;\n",
              "    }\n",
              "\n",
              "    .dataframe thead th {\n",
              "        text-align: right;\n",
              "    }\n",
              "</style>\n",
              "<table border=\"1\" class=\"dataframe\">\n",
              "  <thead>\n",
              "    <tr style=\"text-align: right;\">\n",
              "      <th></th>\n",
              "      <th>longitude</th>\n",
              "      <th>latitude</th>\n",
              "      <th>housing_median_age</th>\n",
              "      <th>total_rooms</th>\n",
              "      <th>total_bedrooms</th>\n",
              "      <th>population</th>\n",
              "      <th>households</th>\n",
              "      <th>median_income</th>\n",
              "      <th>ocean_proximity</th>\n",
              "    </tr>\n",
              "  </thead>\n",
              "  <tbody>\n",
              "    <tr>\n",
              "      <th>15961</th>\n",
              "      <td>-122.43</td>\n",
              "      <td>37.71</td>\n",
              "      <td>52.0</td>\n",
              "      <td>1410.0</td>\n",
              "      <td>286.0</td>\n",
              "      <td>879.0</td>\n",
              "      <td>282.0</td>\n",
              "      <td>3.1908</td>\n",
              "      <td>NEAR BAY</td>\n",
              "    </tr>\n",
              "    <tr>\n",
              "      <th>1771</th>\n",
              "      <td>-122.35</td>\n",
              "      <td>37.95</td>\n",
              "      <td>42.0</td>\n",
              "      <td>1485.0</td>\n",
              "      <td>290.0</td>\n",
              "      <td>971.0</td>\n",
              "      <td>303.0</td>\n",
              "      <td>3.6094</td>\n",
              "      <td>NEAR BAY</td>\n",
              "    </tr>\n",
              "    <tr>\n",
              "      <th>16414</th>\n",
              "      <td>-121.24</td>\n",
              "      <td>37.90</td>\n",
              "      <td>16.0</td>\n",
              "      <td>50.0</td>\n",
              "      <td>10.0</td>\n",
              "      <td>20.0</td>\n",
              "      <td>6.0</td>\n",
              "      <td>2.6250</td>\n",
              "      <td>INLAND</td>\n",
              "    </tr>\n",
              "    <tr>\n",
              "      <th>5056</th>\n",
              "      <td>-118.35</td>\n",
              "      <td>34.02</td>\n",
              "      <td>34.0</td>\n",
              "      <td>5218.0</td>\n",
              "      <td>1576.0</td>\n",
              "      <td>3538.0</td>\n",
              "      <td>1371.0</td>\n",
              "      <td>1.5143</td>\n",
              "      <td>&lt;1H OCEAN</td>\n",
              "    </tr>\n",
              "    <tr>\n",
              "      <th>8589</th>\n",
              "      <td>-118.39</td>\n",
              "      <td>33.89</td>\n",
              "      <td>38.0</td>\n",
              "      <td>1851.0</td>\n",
              "      <td>332.0</td>\n",
              "      <td>750.0</td>\n",
              "      <td>314.0</td>\n",
              "      <td>7.3356</td>\n",
              "      <td>&lt;1H OCEAN</td>\n",
              "    </tr>\n",
              "  </tbody>\n",
              "</table>\n",
              "</div>"
            ],
            "text/plain": [
              "       longitude  latitude  housing_median_age  total_rooms  total_bedrooms  \\\n",
              "15961    -122.43     37.71                52.0       1410.0           286.0   \n",
              "1771     -122.35     37.95                42.0       1485.0           290.0   \n",
              "16414    -121.24     37.90                16.0         50.0            10.0   \n",
              "5056     -118.35     34.02                34.0       5218.0          1576.0   \n",
              "8589     -118.39     33.89                38.0       1851.0           332.0   \n",
              "\n",
              "       population  households  median_income ocean_proximity  \n",
              "15961       879.0       282.0         3.1908        NEAR BAY  \n",
              "1771        971.0       303.0         3.6094        NEAR BAY  \n",
              "16414        20.0         6.0         2.6250          INLAND  \n",
              "5056       3538.0      1371.0         1.5143       <1H OCEAN  \n",
              "8589        750.0       314.0         7.3356       <1H OCEAN  "
            ]
          },
          "execution_count": 89,
          "metadata": {},
          "output_type": "execute_result"
        }
      ],
      "source": [
        "df_full_train, df_test = train_test_split(df,test_size=0.2, random_state=1)\n",
        "df_train, df_val = train_test_split(df,test_size=0.25, random_state=1)\n",
        "y_full_train = df_full_train.median_house_value.values\n",
        "y_train = df_train.median_house_value.values\n",
        "y_val = df_val.median_house_value.values\n",
        "y_test = df_test.median_house_value.values\n",
        "del df_full_train[target]\n",
        "del df_test[target]\n",
        "del df_train[target]\n",
        "del df_val[target]\n",
        "df_full_train.head()"
      ]
    },
    {
      "cell_type": "code",
      "execution_count": 91,
      "metadata": {},
      "outputs": [
        {
          "data": {
            "text/plain": [
              "['longitude',\n",
              " 'latitude',\n",
              " 'housing_median_age',\n",
              " 'total_rooms',\n",
              " 'total_bedrooms',\n",
              " 'population',\n",
              " 'households',\n",
              " 'median_income',\n",
              " 'ocean_proximity']"
            ]
          },
          "execution_count": 91,
          "metadata": {},
          "output_type": "execute_result"
        }
      ],
      "source": [
        "cols = select_cols.copy()\n",
        "cols.remove(target)\n",
        "cols"
      ]
    },
    {
      "cell_type": "markdown",
      "metadata": {
        "id": "5VKq8FX7qIVM"
      },
      "source": [
        "- We will use `DictVectorizer` to turn train and validation into matrices."
      ]
    },
    {
      "cell_type": "code",
      "execution_count": 92,
      "metadata": {
        "id": "WnfFrWe9qtuc"
      },
      "outputs": [],
      "source": [
        "#@ IMPLEMENTATION OF DICTVECTORIZER:\n",
        "dv = DictVectorizer(sparse=False)\n",
        "x_train_dicts = df_train[cols].to_dict(orient=\"records\")\n",
        "x_val_dicts = df_val[cols].to_dict(orient=\"records\")\n",
        "x_test_dicts = df_test[cols].to_dict(orient=\"records\")"
      ]
    },
    {
      "cell_type": "code",
      "execution_count": 93,
      "metadata": {},
      "outputs": [],
      "source": [
        "x_train = dv.fit_transform(x_train_dicts)\n",
        "x_val = dv.transform(x_val_dicts)\n",
        "x_test = dv.transform(x_test_dicts)"
      ]
    },
    {
      "cell_type": "markdown",
      "metadata": {
        "id": "qvxmhaD5hmAK"
      },
      "source": [
        "**Question 1**\n",
        "\n",
        "Let's train a decision tree regressor to predict the `median_house_value` variable.\n",
        "\n",
        "Train a model with `max_depth=1`."
      ]
    },
    {
      "cell_type": "code",
      "execution_count": 94,
      "metadata": {
        "id": "cqBcSbpIq7kJ"
      },
      "outputs": [
        {
          "data": {
            "text/plain": [
              "DecisionTreeRegressor(max_depth=1, random_state=1)"
            ]
          },
          "execution_count": 94,
          "metadata": {},
          "output_type": "execute_result"
        }
      ],
      "source": [
        "#@ TRAINING THE REGRESSION MODEL:\n",
        "\n",
        "dtr = DecisionTreeRegressor(max_depth=1, random_state=1)\n",
        "dtr.fit(x_train, y_train)"
      ]
    },
    {
      "cell_type": "code",
      "execution_count": 95,
      "metadata": {
        "id": "sLAnqRwuikqQ"
      },
      "outputs": [
        {
          "name": "stdout",
          "output_type": "stream",
          "text": [
            "|--- ocean_proximity=INLAND <= 0.50\n",
            "|   |--- value: [12.31]\n",
            "|--- ocean_proximity=INLAND >  0.50\n",
            "|   |--- value: [11.61]\n",
            "\n"
          ]
        }
      ],
      "source": [
        "#@ INSPECTION:\n",
        "print(export_text(dtr, feature_names=dv.get_feature_names()))"
      ]
    },
    {
      "cell_type": "markdown",
      "metadata": {
        "id": "JNBm-qeRp6aZ"
      },
      "source": [
        "- Which feature is used for splitting the data?\n",
        "\n",
        "- Answer: INLAND "
      ]
    },
    {
      "cell_type": "markdown",
      "metadata": {
        "id": "Xhnbdy-CqQoB"
      },
      "source": [
        "**Question 2**\n",
        "\n",
        "Train a random forest model with these parameters:\n",
        "\n",
        "- `n_estimators=10`  \n",
        "- `random_state=1`  \n",
        "- `n_jobs=-1` (optional-to make training faster)"
      ]
    },
    {
      "cell_type": "code",
      "execution_count": 96,
      "metadata": {
        "id": "2w-YSGYMisFt"
      },
      "outputs": [
        {
          "data": {
            "text/plain": [
              "RandomForestRegressor(n_estimators=10, n_jobs=-1, random_state=1)"
            ]
          },
          "execution_count": 96,
          "metadata": {},
          "output_type": "execute_result"
        }
      ],
      "source": [
        "#@ TRAINING RANDOM FOREST MODEL:\n",
        "rfr = RandomForestRegressor(n_estimators=10, random_state=1, n_jobs=-1)\n",
        "rfr.fit(x_train, y_train)"
      ]
    },
    {
      "cell_type": "code",
      "execution_count": 98,
      "metadata": {
        "id": "jCxUAO2Rq1Ps"
      },
      "outputs": [
        {
          "data": {
            "text/plain": [
              "0.0598439493163337"
            ]
          },
          "execution_count": 98,
          "metadata": {},
          "output_type": "execute_result"
        }
      ],
      "source": [
        "#@ CALCULATING MEAN SQUARED ERROR:\n",
        "y_pred = rfr.predict(x_val)\n",
        "rmse = mean_squared_error(y_val, y_pred)\n",
        "rmse"
      ]
    },
    {
      "cell_type": "markdown",
      "metadata": {
        "id": "jfcDllHxrTqu"
      },
      "source": [
        "- What's the RMSE of this model on validation?\n",
        "\n",
        "- Answer: 0.06"
      ]
    },
    {
      "cell_type": "markdown",
      "metadata": {
        "id": "Y7K69bFSrg_V"
      },
      "source": [
        "**Question 3**\n",
        "\n",
        "Now, let's experiment with the `n_estimators` parameter.\n",
        "\n",
        "- Try different values of this parameter from 10 to 200 with step 10.\n",
        "- Set `random_state` to 1.\n",
        "- Evaluate the model on the validation dataset."
      ]
    },
    {
      "cell_type": "code",
      "execution_count": 101,
      "metadata": {
        "id": "-oUFCQwOrQNN"
      },
      "outputs": [
        {
          "name": "stdout",
          "output_type": "stream",
          "text": [
            "n_estimators = 10 rmse = 0.0598439493163337\n",
            "n_estimators = 20 rmse = 0.05727504501948288\n",
            "n_estimators = 30 rmse = 0.05608073843929573\n",
            "n_estimators = 40 rmse = 0.055732591364672915\n",
            "n_estimators = 50 rmse = 0.05535425090825278\n",
            "n_estimators = 60 rmse = 0.055190161933916036\n",
            "n_estimators = 70 rmse = 0.05526950337114548\n",
            "n_estimators = 80 rmse = 0.055099589573087415\n",
            "n_estimators = 90 rmse = 0.055057721992464274\n",
            "n_estimators = 100 rmse = 0.05507821546173712\n",
            "n_estimators = 110 rmse = 0.055090323763640536\n",
            "n_estimators = 120 rmse = 0.05508769144250959\n",
            "n_estimators = 130 rmse = 0.054949926674426365\n",
            "n_estimators = 140 rmse = 0.05490066776546086\n",
            "n_estimators = 150 rmse = 0.05488453931838531\n",
            "n_estimators = 160 rmse = 0.05489107913726082\n",
            "n_estimators = 170 rmse = 0.05488716500803245\n",
            "n_estimators = 180 rmse = 0.05485283122197738\n",
            "n_estimators = 190 rmse = 0.054828731245575\n",
            "n_estimators = 200 rmse = 0.05481432680357404\n"
          ]
        }
      ],
      "source": [
        "#@ TRAINING THE RANDOM FOREST MODEL:\n",
        "\n",
        "results = []\n",
        "\n",
        "for n_estimators in np.arange(10, 201, 10):\n",
        "  rfr = RandomForestRegressor(n_estimators=n_estimators, random_state=1, n_jobs=-1)\n",
        "  rfr.fit(x_train, y_train)\n",
        "  y_pred = rfr.predict(x_val)\n",
        "  rmse = mean_squared_error(y_val, y_pred)\n",
        "  print(f\"n_estimators = {n_estimators} rmse = {rmse}\")\n",
        "  results.append((n_estimators, rmse))\n"
      ]
    },
    {
      "cell_type": "code",
      "execution_count": 102,
      "metadata": {
        "id": "3J-wFLh4s8Ky"
      },
      "outputs": [
        {
          "data": {
            "text/plain": [
              "<matplotlib.legend.Legend at 0x17a3cae5a90>"
            ]
          },
          "execution_count": 102,
          "metadata": {},
          "output_type": "execute_result"
        },
        {
          "data": {
            "image/png": "[encoded data removed]",
            "text/plain": [
              "<Figure size 432x288 with 1 Axes>"
            ]
          },
          "metadata": {
            "needs_background": "light"
          },
          "output_type": "display_data"
        }
      ],
      "source": [
        "#@ INSPECTING THE RMSE SCORES:\n",
        "df_results = pd.DataFrame(data=results, columns=['n_estimators', 'rmse'])\n",
        "plt.plot(df_results.n_estimators, df_results.rmse, label='rmse')\n",
        "plt.xlabel('n_estimators')\n",
        "# plt.ylim(0.82, 0.84)\n",
        "plt.legend()"
      ]
    },
    {
      "cell_type": "markdown",
      "metadata": {
        "id": "NAXZcW3AuC-d"
      },
      "source": [
        "- After which value of `n_estimators` does RMSE stop improving?\n",
        "\n",
        "- Answer: 70?"
      ]
    },
    {
      "cell_type": "markdown",
      "metadata": {
        "id": "CYhRv3kEvWjK"
      },
      "source": [
        "**Question 4**\n",
        "\n",
        "Let's select the best `max_depth`:\n",
        "\n",
        "- Try different values of `max_depth`: [10, 15, 20, 25].\n",
        "- For each of these values, try different values of n_estimators from 10 till 200 (with step 10).\n",
        "- Fix the random seed: `random_state=1`."
      ]
    },
    {
      "cell_type": "code",
      "execution_count": 103,
      "metadata": {
        "id": "fO9TackKvKcS"
      },
      "outputs": [
        {
          "name": "stdout",
          "output_type": "stream",
          "text": [
            "n_estimators = 10 rmse = 0.06654258777387133, max_depth = 10\n",
            "n_estimators = 10 rmse = 0.060155106236857755, max_depth = 15\n",
            "n_estimators = 10 rmse = 0.0600241797634644, max_depth = 20\n",
            "n_estimators = 10 rmse = 0.06016900103881088, max_depth = 25\n",
            "n_estimators = 20 rmse = 0.06575511345410755, max_depth = 10\n",
            "n_estimators = 20 rmse = 0.05810963354328709, max_depth = 15\n",
            "n_estimators = 20 rmse = 0.05747236277363688, max_depth = 20\n",
            "n_estimators = 20 rmse = 0.057575509563370125, max_depth = 25\n",
            "n_estimators = 30 rmse = 0.06528456430001019, max_depth = 10\n",
            "n_estimators = 30 rmse = 0.0571982008568739, max_depth = 15\n",
            "n_estimators = 30 rmse = 0.0561669130993882, max_depth = 20\n",
            "n_estimators = 30 rmse = 0.056137479960078784, max_depth = 25\n",
            "n_estimators = 40 rmse = 0.06503524037484723, max_depth = 10\n",
            "n_estimators = 40 rmse = 0.05671660938822793, max_depth = 15\n",
            "n_estimators = 40 rmse = 0.05572916197296561, max_depth = 20\n",
            "n_estimators = 40 rmse = 0.05563038238824882, max_depth = 25\n",
            "n_estimators = 50 rmse = 0.06494036872953925, max_depth = 10\n",
            "n_estimators = 50 rmse = 0.05628531605541343, max_depth = 15\n",
            "n_estimators = 50 rmse = 0.05528572057619728, max_depth = 20\n",
            "n_estimators = 50 rmse = 0.0552817320166651, max_depth = 25\n",
            "n_estimators = 60 rmse = 0.06492164289912854, max_depth = 10\n",
            "n_estimators = 60 rmse = 0.05620482583131746, max_depth = 15\n",
            "n_estimators = 60 rmse = 0.05518543419755704, max_depth = 20\n",
            "n_estimators = 60 rmse = 0.05510066446372265, max_depth = 25\n",
            "n_estimators = 70 rmse = 0.06507721074042497, max_depth = 10\n",
            "n_estimators = 70 rmse = 0.056274182052880234, max_depth = 15\n",
            "n_estimators = 70 rmse = 0.055287389557956014, max_depth = 20\n",
            "n_estimators = 70 rmse = 0.05522610140878429, max_depth = 25\n",
            "n_estimators = 80 rmse = 0.06513381824837296, max_depth = 10\n",
            "n_estimators = 80 rmse = 0.05615214803281656, max_depth = 15\n",
            "n_estimators = 80 rmse = 0.055128585810378765, max_depth = 20\n",
            "n_estimators = 80 rmse = 0.05513304135720452, max_depth = 25\n",
            "n_estimators = 90 rmse = 0.06510510712144187, max_depth = 10\n",
            "n_estimators = 90 rmse = 0.056164649918493244, max_depth = 15\n",
            "n_estimators = 90 rmse = 0.055112043001855904, max_depth = 20\n",
            "n_estimators = 90 rmse = 0.055130218213139105, max_depth = 25\n",
            "n_estimators = 100 rmse = 0.06504421372548534, max_depth = 10\n",
            "n_estimators = 100 rmse = 0.056189703049106546, max_depth = 15\n",
            "n_estimators = 100 rmse = 0.055135939016165356, max_depth = 20\n",
            "n_estimators = 100 rmse = 0.05521610080625302, max_depth = 25\n",
            "n_estimators = 110 rmse = 0.06507699004811551, max_depth = 10\n",
            "n_estimators = 110 rmse = 0.05622495080263248, max_depth = 15\n",
            "n_estimators = 110 rmse = 0.05518684593135713, max_depth = 20\n",
            "n_estimators = 110 rmse = 0.055214628857605266, max_depth = 25\n",
            "n_estimators = 120 rmse = 0.06511400065664931, max_depth = 10\n",
            "n_estimators = 120 rmse = 0.05622839719186243, max_depth = 15\n",
            "n_estimators = 120 rmse = 0.05514392148978476, max_depth = 20\n",
            "n_estimators = 120 rmse = 0.05521500557424835, max_depth = 25\n",
            "n_estimators = 130 rmse = 0.06498472688667441, max_depth = 10\n",
            "n_estimators = 130 rmse = 0.056113082006203616, max_depth = 15\n",
            "n_estimators = 130 rmse = 0.05504730299977401, max_depth = 20\n",
            "n_estimators = 130 rmse = 0.05507553486510943, max_depth = 25\n",
            "n_estimators = 140 rmse = 0.06499774123170628, max_depth = 10\n",
            "n_estimators = 140 rmse = 0.05607821503385554, max_depth = 15\n",
            "n_estimators = 140 rmse = 0.05500733097055381, max_depth = 20\n",
            "n_estimators = 140 rmse = 0.0550115889566646, max_depth = 25\n",
            "n_estimators = 150 rmse = 0.0650499726283857, max_depth = 10\n",
            "n_estimators = 150 rmse = 0.05608509130681838, max_depth = 15\n",
            "n_estimators = 150 rmse = 0.05501421597278001, max_depth = 20\n",
            "n_estimators = 150 rmse = 0.05500410295881014, max_depth = 25\n",
            "n_estimators = 160 rmse = 0.06506866251352517, max_depth = 10\n",
            "n_estimators = 160 rmse = 0.056076684785729955, max_depth = 15\n",
            "n_estimators = 160 rmse = 0.05496968828995651, max_depth = 20\n",
            "n_estimators = 160 rmse = 0.055000315961741784, max_depth = 25\n",
            "n_estimators = 170 rmse = 0.06507564579578606, max_depth = 10\n",
            "n_estimators = 170 rmse = 0.056093282868984046, max_depth = 15\n",
            "n_estimators = 170 rmse = 0.054954661399532576, max_depth = 20\n",
            "n_estimators = 170 rmse = 0.05502175894264863, max_depth = 25\n",
            "n_estimators = 180 rmse = 0.06510937615608754, max_depth = 10\n",
            "n_estimators = 180 rmse = 0.05608773978827227, max_depth = 15\n",
            "n_estimators = 180 rmse = 0.054934130591838416, max_depth = 20\n",
            "n_estimators = 180 rmse = 0.05500340627157199, max_depth = 25\n",
            "n_estimators = 190 rmse = 0.06514984912637502, max_depth = 10\n",
            "n_estimators = 190 rmse = 0.05607139317284421, max_depth = 15\n",
            "n_estimators = 190 rmse = 0.05492865284991156, max_depth = 20\n",
            "n_estimators = 190 rmse = 0.05496222364729468, max_depth = 25\n",
            "n_estimators = 200 rmse = 0.0651721011911669, max_depth = 10\n",
            "n_estimators = 200 rmse = 0.05603342830262149, max_depth = 15\n",
            "n_estimators = 200 rmse = 0.05488871440026722, max_depth = 20\n",
            "n_estimators = 200 rmse = 0.05494658616126852, max_depth = 25\n"
          ]
        }
      ],
      "source": [
        "#@ TRAINING THE MODEL WITH DEPTH:\n",
        "results = []\n",
        "\n",
        "for n_estimators in np.arange(10, 201, 10):\n",
        "  for max_depth in [10,15,20,25]:\n",
        "    rfr = RandomForestRegressor(n_estimators=n_estimators, max_depth=max_depth, random_state=1, n_jobs=-1)\n",
        "    rfr.fit(x_train, y_train)\n",
        "    y_pred = rfr.predict(x_val)\n",
        "    rmse = mean_squared_error(y_val, y_pred)\n",
        "    print(f\"n_estimators = {n_estimators} rmse = {rmse}, max_depth = {max_depth}\")\n",
        "    results.append((n_estimators, rmse, max_depth))"
      ]
    },
    {
      "cell_type": "code",
      "execution_count": 112,
      "metadata": {},
      "outputs": [
        {
          "data": {
            "text/plain": [
              "Text(0, 0.5, 'rmse')"
            ]
          },
          "execution_count": 112,
          "metadata": {},
          "output_type": "execute_result"
        },
        {
          "data": {
            "image/png": "[encoded data removed]",
            "text/plain": [
              "<Figure size 432x288 with 1 Axes>"
            ]
          },
          "metadata": {
            "needs_background": "light"
          },
          "output_type": "display_data"
        }
      ],
      "source": [
        "df_results = pd.DataFrame(data=results, columns=['n_estimators', 'rmse', 'max_depth'])\n",
        "for max_depth in [10,15,20,25]:\n",
        "  score = df_results[df_results.max_depth == max_depth]\n",
        "  plt.plot(score.n_estimators, score.rmse, label=f'max_depth={max_depth}')\n",
        "plt.legend()\n",
        "plt.xlabel('n_estimators')\n",
        "plt.ylabel('rmse')"
      ]
    },
    {
      "cell_type": "markdown",
      "metadata": {
        "id": "eCRCaKlSwp7D"
      },
      "source": [
        "- What's the best `max_depth`:\n",
        "\n",
        "- Answer: 20"
      ]
    },
    {
      "cell_type": "markdown",
      "metadata": {
        "id": "BDLbx3N5xAoY"
      },
      "source": [
        "**Question 5**\n",
        "\n",
        "We can extract feature importance information from tree-based models.\n",
        "\n",
        "At each step of the decision tree learning algorith, it finds the best split. When doint it, we can calculate \"gain\" - the reduction in impurity before and after the split. This gain is quite useful in understanding what are the imporatant features for tree-based models.\n",
        "\n",
        "In Scikit-Learn, tree-based models contain this information in the `feature_importances_` field.\n",
        "\n",
        "For this homework question, we'll find the most important feature:\n",
        "\n",
        "Train the model with these parametes:\n",
        "- `n_estimators=10`,\n",
        "- `max_depth=20`,\n",
        "- `random_state=1`,\n",
        "- `n_jobs=-1` (optional)\n",
        "\n",
        "Get the feature importance information from this model"
      ]
    },
    {
      "cell_type": "code",
      "execution_count": 118,
      "metadata": {
        "id": "UICqST2Qwhbj"
      },
      "outputs": [
        {
          "name": "stdout",
          "output_type": "stream",
          "text": [
            "None\n"
          ]
        }
      ],
      "source": [
        "#@ TRAINING THE RANDOM FOREST MODEL:\n",
        "rfr = RandomForestRegressor(n_estimators=10, max_depth=20, random_state=1, n_jobs=-1)\n",
        "rfr.fit(x_train, y_train)\n",
        "y_pred = rfr.predict(x_val)\n",
        "rmse = mean_squared_error(y_val, y_pred)\n"
      ]
    },
    {
      "cell_type": "code",
      "execution_count": 160,
      "metadata": {},
      "outputs": [
        {
          "data": {
            "text/plain": [
              "'median_income'"
            ]
          },
          "execution_count": 160,
          "metadata": {},
          "output_type": "execute_result"
        }
      ],
      "source": [
        "\n",
        "feature_importances_ = rfr.feature_importances_\n",
        "feature_importances_.sort()\n",
        "best = feature_importances_[-1]\n",
        "importance = dict(zip(rfr.feature_importances_, dv.feature_names_))\n",
        "importance[best]"
      ]
    },
    {
      "cell_type": "markdown",
      "metadata": {
        "id": "kSCqlx9jye1s"
      },
      "source": [
        "- What's the most important feature?\n",
        "\n",
        "- Answer: median_income"
      ]
    },
    {
      "cell_type": "markdown",
      "metadata": {
        "id": "K5KEdiTMzPaI"
      },
      "source": [
        "**Question 6**\n",
        "\n",
        "Now let's train an XGBoost model! For this question, we'll tune the eta parameter:\n",
        "\n",
        "- Install XGBoost.\n",
        "- Create DMatrix for train and validation\n",
        "- Create a watchlist\n",
        "- Train a model with these parameters for 100 rounds:\n",
        "\n",
        "```\n",
        "xgb_params = {  \n",
        "    'eta': 0.3,  \n",
        "    'max_depth': 6,  \n",
        "    'min_child_weight': 1,  \n",
        "\n",
        "    'objective': 'reg:squarederror',\n",
        "    'nthread': 8,\n",
        "\n",
        "    'seed': 1,\n",
        "    'verbosity': 1,\n",
        "}\n",
        "```\n",
        "\n"
      ]
    },
    {
      "cell_type": "code",
      "execution_count": 176,
      "metadata": {
        "id": "TUP0uoL5yZTc"
      },
      "outputs": [
        {
          "name": "stdout",
          "output_type": "stream",
          "text": [
            "[0]\ttrain-rmse:10.44507\teval-rmse:10.42647\n",
            "[5]\ttrain-rmse:6.17559\teval-rmse:6.16168\n",
            "[10]\ttrain-rmse:3.65737\teval-rmse:3.64675\n",
            "[15]\ttrain-rmse:2.17439\teval-rmse:2.16530\n",
            "[20]\ttrain-rmse:1.30457\teval-rmse:1.29844\n",
            "[25]\ttrain-rmse:0.80057\teval-rmse:0.79813\n",
            "[30]\ttrain-rmse:0.51518\teval-rmse:0.51762\n",
            "[35]\ttrain-rmse:0.35972\teval-rmse:0.36832\n",
            "[40]\ttrain-rmse:0.28219\teval-rmse:0.29788\n",
            "[45]\ttrain-rmse:0.24608\teval-rmse:0.26759\n",
            "[50]\ttrain-rmse:0.22963\teval-rmse:0.25508\n",
            "[55]\ttrain-rmse:0.22036\teval-rmse:0.24930\n",
            "[60]\ttrain-rmse:0.21470\teval-rmse:0.24633\n",
            "[65]\ttrain-rmse:0.20987\teval-rmse:0.24391\n",
            "[70]\ttrain-rmse:0.20573\teval-rmse:0.24223\n",
            "[75]\ttrain-rmse:0.20157\teval-rmse:0.24020\n",
            "[80]\ttrain-rmse:0.19805\teval-rmse:0.23898\n",
            "[85]\ttrain-rmse:0.19482\teval-rmse:0.23757\n",
            "[90]\ttrain-rmse:0.19191\teval-rmse:0.23594\n",
            "[95]\ttrain-rmse:0.18933\teval-rmse:0.23538\n",
            "[99]\ttrain-rmse:0.18758\teval-rmse:0.23446\n"
          ]
        }
      ],
      "source": [
        "#@ CREATING THE DMARTIX:\n",
        "features = dv.feature_names_\n",
        "xgb_params = {  \n",
        "    'eta': 0.3,  \n",
        "    'max_depth': 6,  \n",
        "    'min_child_weight': 1,  \n",
        "\n",
        "    'objective': 'reg:squarederror',\n",
        "    'nthread': 8,\n",
        "\n",
        "    'seed': 1,\n",
        "    'verbosity': 1,\n",
        "}\n",
        "regex = re.compile(r\"<\", re.IGNORECASE)\n",
        "features = [regex.sub(\"_\", col) if any(x in str(col) for x in set(('[', ']', '<'))) else col for col in features]\n",
        "dtrain = xgb.DMatrix(x_train, label=y_train, feature_names=features)\n",
        "dval = xgb.DMatrix(x_val, label=y_val, feature_names=features)\n",
        "watchlist = [(dtrain,'train'),(dval, 'eval')]\n",
        "model = xgb.train(xgb_params, dtrain, num_boost_round=100, evals=watchlist, verbose_eval=5)"
      ]
    },
    {
      "cell_type": "code",
      "execution_count": null,
      "metadata": {},
      "outputs": [],
      "source": []
    },
    {
      "cell_type": "markdown",
      "metadata": {
        "id": "3RmcQ1BQ64X-"
      },
      "source": [
        "- Now, change eta first to 0.1 and then to 0.01."
      ]
    },
    {
      "cell_type": "markdown",
      "metadata": {
        "id": "Yl6Xn6Zb76iH"
      },
      "source": [
        "- Which eta leads to the best RMSE score on the validation dataset?\n",
        "\n",
        "- Answer: 0.3"
      ]
    }
  ],
  "metadata": {
    "colab": {
      "provenance": []
    },
    "kernelspec": {
      "display_name": "Python 3.9.7 ('base')",
      "language": "python",
      "name": "python3"
    },
    "language_info": {
      "codemirror_mode": {
        "name": "ipython",
        "version": 3
      },
      "file_extension": ".py",
      "mimetype": "text/x-python",
      "name": "python",
      "nbconvert_exporter": "python",
      "pygments_lexer": "ipython3",
      "version": "3.9.7"
    },
    "vscode": {
      "interpreter": {
        "hash": "81c93a7bf43722fa7c63894895aef7b1dbe0e2bcac982bdbd66e964354c85542"
      }
    }
  },
  "nbformat": 4,
  "nbformat_minor": 0
}
